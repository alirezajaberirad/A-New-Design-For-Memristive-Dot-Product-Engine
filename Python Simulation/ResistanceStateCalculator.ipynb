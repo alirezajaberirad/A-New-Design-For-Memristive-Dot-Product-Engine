{
 "cells": [
  {
   "cell_type": "code",
   "execution_count": 1,
   "id": "ab7ba75f",
   "metadata": {},
   "outputs": [],
   "source": [
    "def resistance(wi, wmax, Rmin, Rmax):\n",
    "    g=wi/wmax * (Rmax-Rmin)/(Rmax*Rmin) + 1/Rmax\n",
    "    res = 1/g\n",
    "    print(\"resistance = \"+str(res));\n",
    "    print(\"conductance = \"+str(g));\n",
    "    return"
   ]
  },
  {
   "cell_type": "code",
   "execution_count": 2,
   "id": "dda2b77a",
   "metadata": {},
   "outputs": [
    {
     "name": "stdout",
     "output_type": "stream",
     "text": [
      "Wmax : 3\n",
      "Rmin : 10e3\n",
      "Rmax : 50e3\n"
     ]
    }
   ],
   "source": [
    "wmax = float(input(\"Wmax : \"))\n",
    "Rmin = float(input(\"Rmin : \"))\n",
    "Rmax = float(input(\"Rmax : \"))"
   ]
  },
  {
   "cell_type": "code",
   "execution_count": 3,
   "id": "b21ad479",
   "metadata": {},
   "outputs": [
    {
     "name": "stdout",
     "output_type": "stream",
     "text": [
      "Wi : 0\n",
      "resistance = 49999.99999999999\n",
      "conductance = 2e-05\n"
     ]
    }
   ],
   "source": [
    "wi = float(input(\"Wi : \"))\n",
    "resistance(wi,wmax,Rmin,Rmax)"
   ]
  },
  {
   "cell_type": "code",
   "execution_count": 4,
   "id": "3de3fd7c",
   "metadata": {},
   "outputs": [
    {
     "name": "stdout",
     "output_type": "stream",
     "text": [
      "Wi : 1\n",
      "resistance = 21428.57142857143\n",
      "conductance = 4.6666666666666665e-05\n"
     ]
    }
   ],
   "source": [
    "wi = float(input(\"Wi : \"))\n",
    "resistance(wi,wmax,Rmin,Rmax)"
   ]
  },
  {
   "cell_type": "code",
   "execution_count": 5,
   "id": "51c56151",
   "metadata": {},
   "outputs": [
    {
     "name": "stdout",
     "output_type": "stream",
     "text": [
      "Wi : 2\n",
      "resistance = 13636.363636363636\n",
      "conductance = 7.333333333333333e-05\n"
     ]
    }
   ],
   "source": [
    "wi = float(input(\"Wi : \"))\n",
    "resistance(wi,wmax,Rmin,Rmax)"
   ]
  },
  {
   "cell_type": "code",
   "execution_count": 6,
   "id": "7e9fd5b6",
   "metadata": {},
   "outputs": [
    {
     "name": "stdout",
     "output_type": "stream",
     "text": [
      "Wi : 3\n",
      "resistance = 10000.0\n",
      "conductance = 0.0001\n"
     ]
    }
   ],
   "source": [
    "wi = float(input(\"Wi : \"))\n",
    "resistance(wi,wmax,Rmin,Rmax)"
   ]
  },
  {
   "cell_type": "code",
   "execution_count": null,
   "id": "47776380",
   "metadata": {},
   "outputs": [],
   "source": []
  }
 ],
 "metadata": {
  "kernelspec": {
   "display_name": "Python 3 (ipykernel)",
   "language": "python",
   "name": "python3"
  },
  "language_info": {
   "codemirror_mode": {
    "name": "ipython",
    "version": 3
   },
   "file_extension": ".py",
   "mimetype": "text/x-python",
   "name": "python",
   "nbconvert_exporter": "python",
   "pygments_lexer": "ipython3",
   "version": "3.9.12"
  }
 },
 "nbformat": 4,
 "nbformat_minor": 5
}
