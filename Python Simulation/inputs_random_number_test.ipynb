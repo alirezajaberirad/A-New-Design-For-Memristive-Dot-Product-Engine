{
 "cells": [
  {
   "cell_type": "code",
   "execution_count": 1,
   "id": "1751b8b4",
   "metadata": {},
   "outputs": [],
   "source": [
    "import random as rand"
   ]
  },
  {
   "cell_type": "code",
   "execution_count": 2,
   "id": "5b1167e7",
   "metadata": {},
   "outputs": [],
   "source": [
    "def V_row(fileName, iteration, rows, w):\n",
    "    f = open(fileName, \"w\")\n",
    "    for i in range(iteration):\n",
    "        num = []\n",
    "        f.write(str(i*10)+\"n \")\n",
    "        output_result=0.0\n",
    "        for j in range(rows):\n",
    "            randomNum = int(rand.random()*4)\n",
    "            output_result += randomNum * w[j]\n",
    "            number = float(randomNum/3)\n",
    "            num.append(number)\n",
    "            f.write(str(number)+\" \")\n",
    "        output_voltage = float(output_result/9)\n",
    "        f.write(str(output_voltage))\n",
    "        f.write(\"\\n\")\n",
    "        \n",
    "        f.write(str((i+1)*10-0.001)+\"n \")\n",
    "        for j in range(rows):\n",
    "            f.write(str(num[j])+\" \")\n",
    "        f.write(str(output_voltage))\n",
    "        f.write(\"\\n\")\n",
    "    f.close()\n",
    "    "
   ]
  },
  {
   "cell_type": "code",
   "execution_count": 3,
   "id": "e0a2f285",
   "metadata": {},
   "outputs": [],
   "source": [
    "fileName = \"v_rows.txt\"\n",
    "w=[3, 2, 1, 0]\n",
    "V_row(fileName,1000,4, w)"
   ]
  }
 ],
 "metadata": {
  "kernelspec": {
   "display_name": "Python 3 (ipykernel)",
   "language": "python",
   "name": "python3"
  },
  "language_info": {
   "codemirror_mode": {
    "name": "ipython",
    "version": 3
   },
   "file_extension": ".py",
   "mimetype": "text/x-python",
   "name": "python",
   "nbconvert_exporter": "python",
   "pygments_lexer": "ipython3",
   "version": "3.9.12"
  }
 },
 "nbformat": 4,
 "nbformat_minor": 5
}
