{
 "cells": [
  {
   "cell_type": "code",
   "execution_count": 1,
   "id": "e5fcb740",
   "metadata": {},
   "outputs": [],
   "source": [
    "import numpy as np"
   ]
  },
  {
   "cell_type": "code",
   "execution_count": 2,
   "id": "a8bfcb9a",
   "metadata": {},
   "outputs": [],
   "source": [
    "def findDelta(k, g_min, g_max, w_max):\n",
    "    DELTA=(g_max - g_min)/w_max\n",
    "    DELTA_prime = DELTA /(pow(2,k)-1)\n",
    "    print(\"delta prime is equal to: \", str(DELTA_prime))\n",
    "    return DELTA_prime"
   ]
  },
  {
   "cell_type": "code",
   "execution_count": 3,
   "id": "9d788a3b",
   "metadata": {},
   "outputs": [],
   "source": [
    "def findResistance(n, g_min, g_max, w_max, Rf):\n",
    "    R_EoverR = 1/(g_max - g_min)/Rf\n",
    "    print(\"R_E/R is equal to \", str(R_EoverR))\n",
    "    R = float(input(\"How much you want R be? \"))\n",
    "    R_E = R * R_EoverR\n",
    "    print(\"R_E is: \", str(R_E))\n",
    "    return R, R_E"
   ]
  },
  {
   "cell_type": "code",
   "execution_count": 4,
   "id": "154c6bf6",
   "metadata": {},
   "outputs": [],
   "source": [
    "def getWeights(n):\n",
    "    g=[]\n",
    "    for i in range(n):\n",
    "        temp = float(input(\"Enter the weight of the \"+str(i)+\" synapse: \"))\n",
    "        g.append(temp)\n",
    "    return g"
   ]
  },
  {
   "cell_type": "markdown",
   "id": "b2294ba8",
   "metadata": {},
   "source": [
    "def getX(n):\n",
    "    g=[]\n",
    "    for i in range(n):\n",
    "        temp = float(input(\"Enter the value of x\"+str(i)+\": \"))\n",
    "        g.append(temp)\n",
    "    return g"
   ]
  },
  {
   "cell_type": "code",
   "execution_count": 6,
   "id": "6cf3bb1b",
   "metadata": {},
   "outputs": [],
   "source": [
    "def calculateG(g_min, g_max, w_max, weights):\n",
    "    G=[]\n",
    "    for i in weights:\n",
    "        G.append(i*(g_max - g_min)/w_max + g_min)\n",
    "    return G"
   ]
  },
  {
   "cell_type": "code",
   "execution_count": 7,
   "id": "74aa55db",
   "metadata": {},
   "outputs": [],
   "source": [
    "def calculateOutput(G, x, Rf, Re, R, k, w_max, g_min):\n",
    "    v_out=Re/R*(Rf/(pow(2,k)-1)*sum([i*j for (i, j) in zip(G, x)]) - g_min/(pow(2,k)-1)*Rf*sum([i for i in x]))\n",
    "    print(\"output voltage is: \"+str(v_out))\n",
    "    out = v_out * w_max * (pow(2,k)-1)\n",
    "    print(\"output of the column is \"+str(out))\n",
    "    return out"
   ]
  },
  {
   "cell_type": "markdown",
   "id": "c1f9ed38",
   "metadata": {},
   "source": [
    "Rmax = float(input(\"What is the maximum resistance of the memristor? \"))\n",
    "g_min = 1/Rmax\n",
    "\n",
    "Rmin = float(input(\"What is the minimum resistance of the memristor? \"))\n",
    "g_max = 1/Rmin\n",
    "\n",
    "n = float(input(\"How many rows does the crossbar have? \"))\n",
    "\n",
    "k = float(input(\"What is the data width of the input values? \"))\n",
    "\n",
    "w_max = float(input(\"What is the maximum weight of the neural network? \"))\n",
    "\n",
    "delta_prime = findDelta(k, g_min, g_max, w_max)\n",
    "\n",
    "Rf = float(input(\"How much you want the Rf be? \"))"
   ]
  },
  {
   "cell_type": "code",
   "execution_count": 9,
   "id": "1cbe5293",
   "metadata": {},
   "outputs": [
    {
     "name": "stdout",
     "output_type": "stream",
     "text": [
      "R_E/R is equal to  1.0013799635039116\n",
      "How much you want R be? 1000\n",
      "R_E is:  1001.3799635039115\n"
     ]
    }
   ],
   "source": [
    "R, Re = findResistance(n, g_min, g_max, w_max, Rf)"
   ]
  },
  {
   "cell_type": "code",
   "execution_count": 10,
   "id": "b6182cc7",
   "metadata": {},
   "outputs": [
    {
     "name": "stdout",
     "output_type": "stream",
     "text": [
      "Enter the weight of the 0 synapse: 2\n",
      "Enter the weight of the 1 synapse: 3\n",
      "Enter the weight of the 2 synapse: 3\n",
      "Enter the weight of the 3 synapse: 1\n",
      "Enter the value of x0: \n"
     ]
    },
    {
     "ename": "ValueError",
     "evalue": "could not convert string to float: ''",
     "output_type": "error",
     "traceback": [
      "\u001b[1;31m---------------------------------------------------------------------------\u001b[0m",
      "\u001b[1;31mValueError\u001b[0m                                Traceback (most recent call last)",
      "Input \u001b[1;32mIn [10]\u001b[0m, in \u001b[0;36m<cell line: 2>\u001b[1;34m()\u001b[0m\n\u001b[0;32m      1\u001b[0m weights\u001b[38;5;241m=\u001b[39mgetWeights(\u001b[38;5;28mint\u001b[39m(n))\n\u001b[1;32m----> 2\u001b[0m x\u001b[38;5;241m=\u001b[39m\u001b[43mgetX\u001b[49m\u001b[43m(\u001b[49m\u001b[38;5;28;43mint\u001b[39;49m\u001b[43m(\u001b[49m\u001b[43mn\u001b[49m\u001b[43m)\u001b[49m\u001b[43m)\u001b[49m\n",
      "Input \u001b[1;32mIn [5]\u001b[0m, in \u001b[0;36mgetX\u001b[1;34m(n)\u001b[0m\n\u001b[0;32m      2\u001b[0m g\u001b[38;5;241m=\u001b[39m[]\n\u001b[0;32m      3\u001b[0m \u001b[38;5;28;01mfor\u001b[39;00m i \u001b[38;5;129;01min\u001b[39;00m \u001b[38;5;28mrange\u001b[39m(n):\n\u001b[1;32m----> 4\u001b[0m     temp \u001b[38;5;241m=\u001b[39m \u001b[38;5;28;43mfloat\u001b[39;49m\u001b[43m(\u001b[49m\u001b[38;5;28;43minput\u001b[39;49m\u001b[43m(\u001b[49m\u001b[38;5;124;43m\"\u001b[39;49m\u001b[38;5;124;43mEnter the value of x\u001b[39;49m\u001b[38;5;124;43m\"\u001b[39;49m\u001b[38;5;241;43m+\u001b[39;49m\u001b[38;5;28;43mstr\u001b[39;49m\u001b[43m(\u001b[49m\u001b[43mi\u001b[49m\u001b[43m)\u001b[49m\u001b[38;5;241;43m+\u001b[39;49m\u001b[38;5;124;43m\"\u001b[39;49m\u001b[38;5;124;43m: \u001b[39;49m\u001b[38;5;124;43m\"\u001b[39;49m\u001b[43m)\u001b[49m\u001b[43m)\u001b[49m\n\u001b[0;32m      5\u001b[0m     g\u001b[38;5;241m.\u001b[39mappend(temp)\n\u001b[0;32m      6\u001b[0m \u001b[38;5;28;01mreturn\u001b[39;00m g\n",
      "\u001b[1;31mValueError\u001b[0m: could not convert string to float: ''"
     ]
    }
   ],
   "source": [
    "weights=getWeights(int(n))"
   ]
  },
  {
   "cell_type": "code",
   "execution_count": null,
   "id": "ff12bd90",
   "metadata": {},
   "outputs": [],
   "source": [
    "print(str(1/(g_max-g_min)))\n",
    "print(sum([i*j for (i, j) in zip(weights, x)]))"
   ]
  },
  {
   "cell_type": "code",
   "execution_count": null,
   "id": "bf17a238",
   "metadata": {},
   "outputs": [],
   "source": [
    "G=calculateG(g_min, g_max, w_max, weights)\n",
    "G"
   ]
  },
  {
   "cell_type": "code",
   "execution_count": null,
   "id": "7114b1f3",
   "metadata": {},
   "outputs": [],
   "source": [
    "calculateOutput(G, x, Rf, Re, R, k, w_max, g_min)"
   ]
  },
  {
   "cell_type": "code",
   "execution_count": null,
   "id": "514c2e4c",
   "metadata": {},
   "outputs": [],
   "source": [
    "30/1.4460240165492895"
   ]
  },
  {
   "cell_type": "code",
   "execution_count": null,
   "id": "eb6ea42f",
   "metadata": {},
   "outputs": [],
   "source": [
    "75000/2500"
   ]
  },
  {
   "cell_type": "code",
   "execution_count": null,
   "id": "f2b8af69",
   "metadata": {},
   "outputs": [],
   "source": []
  }
 ],
 "metadata": {
  "kernelspec": {
   "display_name": "Python 3 (ipykernel)",
   "language": "python",
   "name": "python3"
  },
  "language_info": {
   "codemirror_mode": {
    "name": "ipython",
    "version": 3
   },
   "file_extension": ".py",
   "mimetype": "text/x-python",
   "name": "python",
   "nbconvert_exporter": "python",
   "pygments_lexer": "ipython3",
   "version": "3.9.12"
  }
 },
 "nbformat": 4,
 "nbformat_minor": 5
}
