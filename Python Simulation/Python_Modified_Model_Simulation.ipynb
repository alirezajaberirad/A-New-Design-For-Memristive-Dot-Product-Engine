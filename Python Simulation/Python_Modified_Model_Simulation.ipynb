{
 "cells": [
  {
   "cell_type": "code",
   "execution_count": 1,
   "id": "9d94a6f5",
   "metadata": {},
   "outputs": [],
   "source": [
    "import numpy as np\n",
    "import random as rand\n",
    "import matplotlib.pyplot as plt"
   ]
  },
  {
   "cell_type": "code",
   "execution_count": 2,
   "id": "fb051538",
   "metadata": {},
   "outputs": [],
   "source": [
    "def setResistance(n, g_min, g_max, w_max): \n",
    "    Rf = float(input(\"How much you want the Rf be? \"))\n",
    "    R_EoverR = 1/(g_max - g_min)/Rf\n",
    "    print(\"R_E/R is equal to \", str(R_EoverR))\n",
    "    R = float(input(\"How much you want R be? \"))\n",
    "    R_E = R * R_EoverR\n",
    "#     print(\"Ideal R_E is: \", str(R_E))\n",
    "#     R_E=float(input(\"How much you want R_E be?\"))\n",
    "    return R, R_E, Rf"
   ]
  },
  {
   "cell_type": "code",
   "execution_count": 3,
   "id": "eea8b7bd",
   "metadata": {},
   "outputs": [],
   "source": [
    "def getWeights(n,k):\n",
    "    g=[]\n",
    "    for i in range(n):\n",
    "        temp = float(int(rand.random()*pow(2,k)))\n",
    "        #print(\"Weight of the memristor number \"+str(i+1)+\" is: \"+str(temp))\n",
    "        g.append(temp)\n",
    "    return g"
   ]
  },
  {
   "cell_type": "code",
   "execution_count": 4,
   "id": "01e4a4c2",
   "metadata": {},
   "outputs": [],
   "source": [
    "def testInputs(n,k,testNum):\n",
    "    x=[]\n",
    "    for i in range(n*testNum):\n",
    "        x.append(int(rand.random()*pow(2,k)))\n",
    "    x=np.array(x).reshape((n,testNum))\n",
    "    x1=x[0]\n",
    "    x2=x[1]\n",
    "    x3=x[2]\n",
    "    x4=x[3]\n",
    "    return x1,x2,x3,x4"
   ]
  },
  {
   "cell_type": "code",
   "execution_count": 5,
   "id": "8e3943fc",
   "metadata": {},
   "outputs": [],
   "source": [
    "def calc_expected_output(weights, x1, x2, x3, x4):\n",
    "    out=[]\n",
    "    for i in range(len(x1)):\n",
    "        out.append(weights[0]*x1[i] + weights[1]*x2[i] + weights[2]*x3[i] + weights[3]*x4[i])\n",
    "    return out"
   ]
  },
  {
   "cell_type": "code",
   "execution_count": 6,
   "id": "9046cdab",
   "metadata": {},
   "outputs": [],
   "source": [
    "def calc_avg_error(output, expected):\n",
    "    error_list=[]\n",
    "    error=float(0)\n",
    "    for i in range(len(output)):\n",
    "        err=abs(output[i] - expected[i])\n",
    "        error += err\n",
    "        error_list.append(err)\n",
    "    avg_error = error/len(output)\n",
    "    return error_list,avg_error"
   ]
  },
  {
   "cell_type": "code",
   "execution_count": 7,
   "id": "bc692ab6",
   "metadata": {},
   "outputs": [],
   "source": [
    "def calc_avg_expected(expected):\n",
    "    acc=float(0)\n",
    "    for i in (expected):\n",
    "        acc+=i\n",
    "    acc=acc/len(expected)\n",
    "    return acc"
   ]
  },
  {
   "cell_type": "code",
   "execution_count": 8,
   "id": "79aeb1ff",
   "metadata": {},
   "outputs": [],
   "source": [
    "def show(signal,numOfCases, color, title):\n",
    "    time=np.arange(numOfCases)\n",
    "    plt.step(time,signal,color)\n",
    "    plt.title(title)\n",
    "    plt.show()"
   ]
  },
  {
   "cell_type": "code",
   "execution_count": 9,
   "id": "cc63f663",
   "metadata": {},
   "outputs": [],
   "source": [
    "def crossbarModule(n, x_max, w_max, g_min, g_max, R, Re, Rf, weights, x1_test, x2_test, x3_test, x4_test):\n",
    "    G=[]\n",
    "    v1=[]\n",
    "    v2=[]\n",
    "    v3=[]\n",
    "    v4=[]\n",
    "    V_SL=[]\n",
    "    V_Ref=[]\n",
    "    V_O=[]\n",
    "    neuron_out=[]\n",
    "    \n",
    "    for i in weights:\n",
    "        G.append(i*(g_max - g_min)/w_max + g_min)\n",
    "        \n",
    "    for i in range(len(x1_test)):\n",
    "        v1.append(float(x1_test[i]/x_max))\n",
    "        v2.append(float(x2_test[i]/x_max))\n",
    "        v3.append(float(x3_test[i]/x_max))\n",
    "        v4.append(float(x4_test[i]/x_max))\n",
    "    \n",
    "    for i in range(len(v1)):\n",
    "        I_SL=v1[i]*G[0] + v2[i]*G[1] + v3[i]*G[2] + v4[i]*G[3]\n",
    "        V_SL.append(I_SL*Rf)\n",
    "        \n",
    "    for i in range(len(v1)):\n",
    "        I_Ref=(v1[i]+v2[i]+v3[i]+v4[i])*g_min\n",
    "        V_Ref.append(I_Ref*Rf)\n",
    "        \n",
    "    for i in range(len(V_SL)):\n",
    "        V_O.append(float(Re/R)*(V_SL[i]-V_Ref[i]))\n",
    "        \n",
    "    for i in V_O:\n",
    "        neuron_out.append(i*x_max*w_max)\n",
    "        \n",
    "    return V_SL, V_Ref, V_O, neuron_out"
   ]
  },
  {
   "cell_type": "code",
   "execution_count": 10,
   "id": "2c659f6e",
   "metadata": {},
   "outputs": [
    {
     "name": "stdout",
     "output_type": "stream",
     "text": [
      "What is the maximum resistance of the memristor? 50e3\n",
      "What is the minimum resistance of the memristor? 10e3\n",
      "How many rows does the crossbar have? 4\n",
      "What is the data width of the input values? 2\n",
      "How many resistance states does each memristor have? 4\n",
      "How much you want the Rf be? 10e3\n",
      "R_E/R is equal to  1.2499999999999998\n",
      "How much you want R be? 1e3\n"
     ]
    }
   ],
   "source": [
    "Rmax = float(input(\"What is the maximum resistance of the memristor? \"))\n",
    "g_min = 1/Rmax\n",
    "\n",
    "Rmin = float(input(\"What is the minimum resistance of the memristor? \"))\n",
    "g_max = 1/Rmin\n",
    "\n",
    "n = int(input(\"How many rows does the crossbar have? \"))\n",
    "\n",
    "k = int(input(\"What is the data width of the input values? \"))\n",
    "x_max=pow(2,k)-1\n",
    "\n",
    "kw = float(input(\"How many resistance states does each memristor have? \"))\n",
    "\n",
    "w_max = float(kw-1)\n",
    "\n",
    "R, Re, Rf = setResistance(n, g_min, g_max, w_max)\n",
    "\n",
    "weights=getWeights(n,k)\n",
    "\n"
   ]
  },
  {
   "cell_type": "code",
   "execution_count": 11,
   "id": "6aa7611f",
   "metadata": {},
   "outputs": [
    {
     "name": "stdout",
     "output_type": "stream",
     "text": [
      "How many random modules? 1000\n",
      "How many test cases for each module? 1000\n",
      "Overall average error is: 1.139816165063313e-15 Volts\n",
      "Overall average expected output is: 8.868006999999992 Volts\n",
      "Overall accuracy is: 99.99999999999999%\n"
     ]
    }
   ],
   "source": [
    "numOfModules = int(input(\"How many random modules? \"))\n",
    "numOfTestCases = int(input(\"How many test cases for each module? \"))\n",
    "overall_avg_error = float(0)\n",
    "overall_avg_expected = float(0)\n",
    "for i in range(numOfModules):\n",
    "    weights=getWeights(n,k)\n",
    "    x1,x2,x3,x4=testInputs(n,k,numOfTestCases)\n",
    "    V_SL, V_Ref, V_O, output = crossbarModule(n, x_max, w_max, g_min, g_max, R, Re, Rf, weights, x1, x2, x3, x4)\n",
    "    expected_output = calc_expected_output(weights, x1, x2, x3, x4)\n",
    "    error_list,avg_error=calc_avg_error(output, expected_output)\n",
    "    avg_expected_output=calc_avg_expected(expected_output)\n",
    "    overall_avg_error+=avg_error\n",
    "    overall_avg_expected+=avg_expected_output\n",
    "overall_avg_error = overall_avg_error/numOfModules\n",
    "overall_avg_expected = overall_avg_expected/numOfModules\n",
    "print(\"Overall average error is: \"+str(overall_avg_error)+\" Volts\")\n",
    "print(\"Overall average expected output is: \"+ str(overall_avg_expected)+\" Volts\")\n",
    "print(\"Overall accuracy is: \"+str((1-overall_avg_error/overall_avg_expected)*100)+\"%\")"
   ]
  },
  {
   "cell_type": "code",
   "execution_count": 12,
   "id": "16f284f0",
   "metadata": {},
   "outputs": [
    {
     "name": "stdout",
     "output_type": "stream",
     "text": [
      "Average error of the last module is:5.211941989102797e-16 Volts\n",
      "Average expected output voltages of the last module is: 3.005 Volts\n",
      "Accuracy percentage of the last module is: 99.99999999999997%\n"
     ]
    }
   ],
   "source": [
    "print(\"Average error of the last module is:\" + str(avg_error)+\" Volts\")\n",
    "print(\"Average expected output voltages of the last module is: \"+str(avg_expected_output)+ \" Volts\")\n",
    "print(\"Accuracy percentage of the last module is: \"+str((1-avg_error/avg_expected_output)*100)+\"%\")"
   ]
  },
  {
   "cell_type": "code",
   "execution_count": 13,
   "id": "a020af3f",
   "metadata": {},
   "outputs": [
    {
     "data": {
      "image/png": "[encoded data removed]",
      "text/plain": [
       "<Figure size 432x288 with 1 Axes>"
      ]
     },
     "metadata": {
      "needs_background": "light"
     },
     "output_type": "display_data"
    }
   ],
   "source": [
    "show(output,numOfTestCases,'k','Output voltage of the modified memristive neuron')"
   ]
  },
  {
   "cell_type": "code",
   "execution_count": 14,
   "id": "6d5c3a20",
   "metadata": {},
   "outputs": [
    {
     "data": {
      "image/png": "[encoded data removed]",
      "text/plain": [
       "<Figure size 432x288 with 1 Axes>"
      ]
     },
     "metadata": {
      "needs_background": "light"
     },
     "output_type": "display_data"
    }
   ],
   "source": [
    "show(expected_output,numOfTestCases,'gray','Expected output voltages')"
   ]
  },
  {
   "cell_type": "code",
   "execution_count": 15,
   "id": "ce369608",
   "metadata": {},
   "outputs": [
    {
     "data": {
      "image/png": "[encoded data removed]",
      "text/plain": [
       "<Figure size 432x288 with 1 Axes>"
      ]
     },
     "metadata": {
      "needs_background": "light"
     },
     "output_type": "display_data"
    }
   ],
   "source": [
    "show(error_list,numOfTestCases,'red','Error')"
   ]
  }
 ],
 "metadata": {
  "kernelspec": {
   "display_name": "Python 3 (ipykernel)",
   "language": "python",
   "name": "python3"
  },
  "language_info": {
   "codemirror_mode": {
    "name": "ipython",
    "version": 3
   },
   "file_extension": ".py",
   "mimetype": "text/x-python",
   "name": "python",
   "nbconvert_exporter": "python",
   "pygments_lexer": "ipython3",
   "version": "3.9.12"
  }
 },
 "nbformat": 4,
 "nbformat_minor": 5
}
