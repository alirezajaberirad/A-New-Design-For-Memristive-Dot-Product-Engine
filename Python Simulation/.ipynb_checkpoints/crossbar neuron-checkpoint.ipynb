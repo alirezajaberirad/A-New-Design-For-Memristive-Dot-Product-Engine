{
 "cells": [
  {
   "cell_type": "code",
   "execution_count": 15,
   "id": "ced7f042",
   "metadata": {},
   "outputs": [],
   "source": [
    "import numpy as np"
   ]
  },
  {
   "cell_type": "code",
   "execution_count": 11,
   "id": "9f41b118",
   "metadata": {},
   "outputs": [],
   "source": [
    "def findDelta(k, g_min, g_max, w_max):\n",
    "    DELTA=(g_max - g_min)/w_max\n",
    "    DELTA_prime = DELTA /(pow(2,k)-1)\n",
    "    print(\"delta prime is equal to: \", str(DELTA_prime))\n",
    "    return DELTA_prime"
   ]
  },
  {
   "cell_type": "code",
   "execution_count": 12,
   "id": "c2961bc3",
   "metadata": {},
   "outputs": [],
   "source": [
    "def findResistance(n, g_min, g_max, w_max, Rf):\n",
    "    R_EoverR = 1/(n*(g_max - g_min))\n",
    "    print(\"R_E/R is equal to \", str(R_EoverR))\n",
    "    R = float(input(\"How much you want R be? \"))\n",
    "    R_E = R * R_EoverR \n",
    "    print(\"R_E is: \", str(R_E))\n",
    "    return R, R_E"
   ]
  },
  {
   "cell_type": "code",
   "execution_count": 40,
   "id": "a47800da",
   "metadata": {},
   "outputs": [],
   "source": [
    "def getWeights(n):\n",
    "    g=[]\n",
    "    for i in range(n):\n",
    "        temp = float(input(\"Enter the weight of the \"+str(i)+\" synapse: \"))\n",
    "        g.append(temp)\n",
    "    return g"
   ]
  },
  {
   "cell_type": "code",
   "execution_count": 42,
   "id": "b773f2d1",
   "metadata": {},
   "outputs": [],
   "source": [
    "def getX(n):\n",
    "    g=[]\n",
    "    for i in range(n):\n",
    "        temp = float(input(\"Enter the value of x\"+str(i)+\": \"))\n",
    "        g.append(temp)\n",
    "    return g"
   ]
  },
  {
   "cell_type": "code",
   "execution_count": 47,
   "id": "569d17a8",
   "metadata": {},
   "outputs": [],
   "source": [
    "def calculateG(g_min, g_max, w_max, weights):\n",
    "    G=[]\n",
    "    for i in weights:\n",
    "        G.append(i*(g_max - g_min)/w_max + g_min)\n",
    "    return G"
   ]
  },
  {
   "cell_type": "code",
   "execution_count": 60,
   "id": "e2af466a",
   "metadata": {},
   "outputs": [],
   "source": [
    "def calculateOutput(G, x, Rf, Re, R, k, w_max):\n",
    "    v_out=Re/R*Rf/(pow(2,k)-1)*sum([i*j for (i, j) in zip(G, x)])\n",
    "    print(\"output voltage is: \"+str(v_out))\n",
    "    out = v_out * w_max * (pow(2,k)-1)\n",
    "    print(\"output of the column is \"+str(out))\n",
    "    return out"
   ]
  },
  {
   "cell_type": "code",
   "execution_count": 54,
   "id": "07c89051",
   "metadata": {},
   "outputs": [
    {
     "name": "stdout",
     "output_type": "stream",
     "text": [
      "What is the maximum resistance of the memristor? 3.355e6\n",
      "What is the minimum resistance of the memristor? 9.984e3\n",
      "How many does the crossbar have? 4\n",
      "What is the data width of the input values? 8\n",
      "What is the maximum weight of the neural network? 255\n",
      "delta prime is equal to:  1.535750769967118e-09\n",
      "How much you want the Rf be? 10000\n",
      "R_E/R is equal to  2503.4499087597787\n",
      "How much you want R be? 20\n",
      "R_E is:  50068.99817519558\n"
     ]
    }
   ],
   "source": [
    "Rmax = float(input(\"What is the maximum resistance of the memristor? \"))\n",
    "g_min = 1/Rmax\n",
    "\n",
    "Rmin = float(input(\"What is the minimum resistance of the memristor? \"))\n",
    "g_max = 1/Rmin\n",
    "\n",
    "n = float(input(\"How many does the crossbar have? \"))\n",
    "\n",
    "k = float(input(\"What is the data width of the input values? \"))\n",
    "\n",
    "w_max = float(input(\"What is the maximum weight of the neural network? \"))\n",
    "\n",
    "delta_prime = findDelta(k, g_min, g_max, w_max)\n",
    "\n",
    "Rf = float(input(\"How much you want the Rf be? \"))\n",
    "\n",
    "R, Re = findResistance(n, g_min, g_max, w_max, Rf)"
   ]
  },
  {
   "cell_type": "code",
   "execution_count": 55,
   "id": "7e248719",
   "metadata": {},
   "outputs": [
    {
     "name": "stdout",
     "output_type": "stream",
     "text": [
      "Enter the weight of the 0 synapse: 1\n",
      "Enter the weight of the 1 synapse: 2\n",
      "Enter the weight of the 2 synapse: 3\n",
      "Enter the weight of the 3 synapse: 4\n",
      "Enter the value of x0: 1\n",
      "Enter the value of x1: 2\n",
      "Enter the value of x2: 3\n",
      "Enter the value of x3: 4\n"
     ]
    }
   ],
   "source": [
    "weights=getWeights(int(n))\n",
    "x=getX(int(n))"
   ]
  },
  {
   "cell_type": "code",
   "execution_count": 56,
   "id": "f94d3713",
   "metadata": {},
   "outputs": [
    {
     "name": "stdout",
     "output_type": "stream",
     "text": [
      "10013.799635039115\n",
      "30.0\n"
     ]
    }
   ],
   "source": [
    "print(str(1/(g_max-g_min)))\n",
    "print(sum([i*j for (i, j) in zip(weights, x)]))"
   ]
  },
  {
   "cell_type": "code",
   "execution_count": 57,
   "id": "ea0dcbdd",
   "metadata": {},
   "outputs": [],
   "source": [
    "G=calculateG(g_min, g_max, w_max, weights)"
   ]
  },
  {
   "cell_type": "code",
   "execution_count": 61,
   "id": "9408509c",
   "metadata": {},
   "outputs": [
    {
     "name": "stdout",
     "output_type": "stream",
     "text": [
      "output voltage is: 5.662867866856615e-07\n",
      "output of the column is 0.03682279830423514\n"
     ]
    },
    {
     "data": {
      "text/plain": [
       "0.03682279830423514"
      ]
     },
     "execution_count": 61,
     "metadata": {},
     "output_type": "execute_result"
    }
   ],
   "source": [
    "calculateOutput(G, x, Rf, Re, R, k, w_max, delta_prime)"
   ]
  },
  {
   "cell_type": "code",
   "execution_count": 59,
   "id": "3183e961",
   "metadata": {},
   "outputs": [
    {
     "data": {
      "text/plain": [
       "20.74654338839428"
      ]
     },
     "execution_count": 59,
     "metadata": {},
     "output_type": "execute_result"
    }
   ],
   "source": [
    "30/1.4460240165492895"
   ]
  },
  {
   "cell_type": "code",
   "execution_count": null,
   "id": "b2e116f3",
   "metadata": {},
   "outputs": [],
   "source": []
  }
 ],
 "metadata": {
  "kernelspec": {
   "display_name": "Python 3 (ipykernel)",
   "language": "python",
   "name": "python3"
  },
  "language_info": {
   "codemirror_mode": {
    "name": "ipython",
    "version": 3
   },
   "file_extension": ".py",
   "mimetype": "text/x-python",
   "name": "python",
   "nbconvert_exporter": "python",
   "pygments_lexer": "ipython3",
   "version": "3.9.12"
  }
 },
 "nbformat": 4,
 "nbformat_minor": 5
}
