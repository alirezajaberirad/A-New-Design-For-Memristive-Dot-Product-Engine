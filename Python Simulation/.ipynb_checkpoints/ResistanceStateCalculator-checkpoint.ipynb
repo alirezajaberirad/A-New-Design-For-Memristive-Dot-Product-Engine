{
 "cells": [
  {
   "cell_type": "code",
   "execution_count": 5,
   "id": "3a9b3081",
   "metadata": {},
   "outputs": [],
   "source": [
    "def resistance(wi, wmax, Rmin, Rmax):\n",
    "    g=wi/wmax * (Rmax-Rmin)/(Rmax*Rmin) + 1/Rmax\n",
    "    res = 1/g\n",
    "    print(\"resistance = \"+str(res));\n",
    "    print(\"conductance = \"+str(g));\n",
    "    return"
   ]
  },
  {
   "cell_type": "code",
   "execution_count": 7,
   "id": "a31ec949",
   "metadata": {},
   "outputs": [
    {
     "name": "stdout",
     "output_type": "stream",
     "text": [
      "Wi : 2.0\n",
      "Wmax : 3.0\n",
      "Rmin : 9984.0\n",
      "Rmax : 3355000.0\n"
     ]
    }
   ],
   "source": [
    "wi = float(input(\"Wi : \"))\n",
    "wmax = float(input(\"Wmax : \"))\n",
    "Rmin = float(input(\"Rmin : \"))\n",
    "Rmax = float(input(\"Rmax : \"))"
   ]
  },
  {
   "cell_type": "code",
   "execution_count": 8,
   "id": "90cad7e6",
   "metadata": {},
   "outputs": [
    {
     "ename": "TypeError",
     "evalue": "unsupported operand type(s) for /: 'str' and 'str'",
     "output_type": "error",
     "traceback": [
      "\u001b[1;31m---------------------------------------------------------------------------\u001b[0m",
      "\u001b[1;31mTypeError\u001b[0m                                 Traceback (most recent call last)",
      "Input \u001b[1;32mIn [8]\u001b[0m, in \u001b[0;36m<cell line: 1>\u001b[1;34m()\u001b[0m\n\u001b[1;32m----> 1\u001b[0m \u001b[43mresistance\u001b[49m\u001b[43m(\u001b[49m\u001b[43mwi\u001b[49m\u001b[43m,\u001b[49m\u001b[43mwmax\u001b[49m\u001b[43m,\u001b[49m\u001b[43mRmin\u001b[49m\u001b[43m,\u001b[49m\u001b[43mRmax\u001b[49m\u001b[43m)\u001b[49m\n",
      "Input \u001b[1;32mIn [5]\u001b[0m, in \u001b[0;36mresistance\u001b[1;34m(wi, wmax, Rmin, Rmax)\u001b[0m\n\u001b[0;32m      1\u001b[0m \u001b[38;5;28;01mdef\u001b[39;00m \u001b[38;5;21mresistance\u001b[39m(wi, wmax, Rmin, Rmax):\n\u001b[1;32m----> 2\u001b[0m     g\u001b[38;5;241m=\u001b[39m\u001b[43mwi\u001b[49m\u001b[38;5;241;43m/\u001b[39;49m\u001b[43mwmax\u001b[49m \u001b[38;5;241m*\u001b[39m (Rmax\u001b[38;5;241m-\u001b[39mRmin)\u001b[38;5;241m/\u001b[39m(Rmax\u001b[38;5;241m*\u001b[39mRmin) \u001b[38;5;241m+\u001b[39m \u001b[38;5;241m1\u001b[39m\u001b[38;5;241m/\u001b[39mRmax\n\u001b[0;32m      3\u001b[0m     res \u001b[38;5;241m=\u001b[39m \u001b[38;5;241m1\u001b[39m\u001b[38;5;241m/\u001b[39mg\n\u001b[0;32m      4\u001b[0m     \u001b[38;5;28mprint\u001b[39m(\u001b[38;5;124m\"\u001b[39m\u001b[38;5;124mresistance = \u001b[39m\u001b[38;5;124m\"\u001b[39m\u001b[38;5;241m+\u001b[39m\u001b[38;5;28mstr\u001b[39m(res));\n",
      "\u001b[1;31mTypeError\u001b[0m: unsupported operand type(s) for /: 'str' and 'str'"
     ]
    }
   ],
   "source": [
    "resistance(wi,wmax,Rmin,Rmax)"
   ]
  },
  {
   "cell_type": "code",
   "execution_count": null,
   "id": "6f3db1de",
   "metadata": {},
   "outputs": [],
   "source": []
  }
 ],
 "metadata": {
  "kernelspec": {
   "display_name": "Python 3 (ipykernel)",
   "language": "python",
   "name": "python3"
  },
  "language_info": {
   "codemirror_mode": {
    "name": "ipython",
    "version": 3
   },
   "file_extension": ".py",
   "mimetype": "text/x-python",
   "name": "python",
   "nbconvert_exporter": "python",
   "pygments_lexer": "ipython3",
   "version": "3.9.12"
  }
 },
 "nbformat": 4,
 "nbformat_minor": 5
}
