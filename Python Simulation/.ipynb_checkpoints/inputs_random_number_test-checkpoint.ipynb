{
 "cells": [
  {
   "cell_type": "code",
   "execution_count": 4,
   "id": "1751b8b4",
   "metadata": {},
   "outputs": [],
   "source": [
    "import random as rand"
   ]
  },
  {
   "cell_type": "code",
   "execution_count": 17,
   "id": "5b1167e7",
   "metadata": {},
   "outputs": [],
   "source": [
    "def V_row(fileName, iteration, rows, w):\n",
    "    f = open(fileName, \"w\")\n",
    "    for i in range(iteration):\n",
    "        num = []\n",
    "        f.write(str(i*10)+\"n \")\n",
    "        for j in range(rows):\n",
    "            randomNum = int(rand.random()*4)\n",
    "            output_result = randomNum * w[j]\n",
    "            number = float(randomNum/3)\n",
    "            num.append(number)\n",
    "            f.write(str(number)+\" \")\n",
    "        output_voltage = float(output_result)\n",
    "        f.write(str(output_voltage))\n",
    "        f.write(\"\\n\")\n",
    "        \n",
    "        f.write(str((i+1)*10-0.001)+\"n \")\n",
    "        for j in range(rows):\n",
    "            f.write(str(num[j])+\" \")\n",
    "        f.write(str(output_voltage))\n",
    "        f.write(\"\\n\")\n",
    "    f.close()\n",
    "    "
   ]
  },
  {
   "cell_type": "code",
   "execution_count": 18,
   "id": "e0a2f285",
   "metadata": {},
   "outputs": [],
   "source": [
    "fileName = \"v_rows.txt\"\n",
    "w=[3, 3, 3, 3]\n",
    "V_row(fileName,100,4, w)"
   ]
  },
  {
   "cell_type": "code",
   "execution_count": 9,
   "id": "6b799b8d",
   "metadata": {},
   "outputs": [
    {
     "name": "stdout",
     "output_type": "stream",
     "text": [
      "1\n"
     ]
    }
   ],
   "source": [
    "x=[1,2,3,4]\n",
    "print(x[0])"
   ]
  },
  {
   "cell_type": "code",
   "execution_count": 16,
   "id": "c8bdbe4b",
   "metadata": {},
   "outputs": [
    {
     "name": "stdout",
     "output_type": "stream",
     "text": [
      "0\n",
      "1\n",
      "2\n",
      "3\n"
     ]
    }
   ],
   "source": [
    "for i in range(4):\n",
    "    print(i)"
   ]
  },
  {
   "cell_type": "code",
   "execution_count": null,
   "id": "07cca80c",
   "metadata": {},
   "outputs": [],
   "source": []
  }
 ],
 "metadata": {
  "kernelspec": {
   "display_name": "Python 3 (ipykernel)",
   "language": "python",
   "name": "python3"
  },
  "language_info": {
   "codemirror_mode": {
    "name": "ipython",
    "version": 3
   },
   "file_extension": ".py",
   "mimetype": "text/x-python",
   "name": "python",
   "nbconvert_exporter": "python",
   "pygments_lexer": "ipython3",
   "version": "3.9.12"
  }
 },
 "nbformat": 4,
 "nbformat_minor": 5
}
